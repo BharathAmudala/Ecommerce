{
 "cells": [
  {
   "cell_type": "markdown",
   "id": "5b6cbaf8",
   "metadata": {},
   "source": [
    "- 1. READING ECOMMERCE SET USING PANDAS"
   ]
  },
  {
   "cell_type": "code",
   "execution_count": 1,
   "id": "31653a3a",
   "metadata": {},
   "outputs": [],
   "source": [
    "# import pandas \n",
    "import pandas as pd"
   ]
  },
  {
   "cell_type": "code",
   "execution_count": 2,
   "id": "5463653f",
   "metadata": {},
   "outputs": [],
   "source": [
    "# Reading the dataset\n",
    "df = pd.read_csv('Walmart_Sales.csv')"
   ]
  },
  {
   "cell_type": "code",
   "execution_count": 3,
   "id": "4a53ba9a",
   "metadata": {},
   "outputs": [
    {
     "data": {
      "text/html": [
       "<div>\n",
       "<style scoped>\n",
       "    .dataframe tbody tr th:only-of-type {\n",
       "        vertical-align: middle;\n",
       "    }\n",
       "\n",
       "    .dataframe tbody tr th {\n",
       "        vertical-align: top;\n",
       "    }\n",
       "\n",
       "    .dataframe thead th {\n",
       "        text-align: right;\n",
       "    }\n",
       "</style>\n",
       "<table border=\"1\" class=\"dataframe\">\n",
       "  <thead>\n",
       "    <tr style=\"text-align: right;\">\n",
       "      <th></th>\n",
       "      <th>Store</th>\n",
       "      <th>Date</th>\n",
       "      <th>Weekly_Sales</th>\n",
       "      <th>Holiday_Flag</th>\n",
       "      <th>Temperature</th>\n",
       "      <th>Fuel_Price</th>\n",
       "      <th>CPI</th>\n",
       "      <th>Unemployment</th>\n",
       "    </tr>\n",
       "  </thead>\n",
       "  <tbody>\n",
       "    <tr>\n",
       "      <th>0</th>\n",
       "      <td>1</td>\n",
       "      <td>05-02-2010</td>\n",
       "      <td>1643690.90</td>\n",
       "      <td>0</td>\n",
       "      <td>42.31</td>\n",
       "      <td>2.572</td>\n",
       "      <td>211.096358</td>\n",
       "      <td>8.106</td>\n",
       "    </tr>\n",
       "    <tr>\n",
       "      <th>1</th>\n",
       "      <td>1</td>\n",
       "      <td>12-02-2010</td>\n",
       "      <td>1641957.44</td>\n",
       "      <td>1</td>\n",
       "      <td>38.51</td>\n",
       "      <td>2.548</td>\n",
       "      <td>211.242170</td>\n",
       "      <td>8.106</td>\n",
       "    </tr>\n",
       "    <tr>\n",
       "      <th>2</th>\n",
       "      <td>1</td>\n",
       "      <td>19-02-2010</td>\n",
       "      <td>1611968.17</td>\n",
       "      <td>0</td>\n",
       "      <td>39.93</td>\n",
       "      <td>2.514</td>\n",
       "      <td>211.289143</td>\n",
       "      <td>8.106</td>\n",
       "    </tr>\n",
       "    <tr>\n",
       "      <th>3</th>\n",
       "      <td>1</td>\n",
       "      <td>26-02-2010</td>\n",
       "      <td>1409727.59</td>\n",
       "      <td>0</td>\n",
       "      <td>46.63</td>\n",
       "      <td>2.561</td>\n",
       "      <td>211.319643</td>\n",
       "      <td>8.106</td>\n",
       "    </tr>\n",
       "    <tr>\n",
       "      <th>4</th>\n",
       "      <td>1</td>\n",
       "      <td>05-03-2010</td>\n",
       "      <td>1554806.68</td>\n",
       "      <td>0</td>\n",
       "      <td>46.50</td>\n",
       "      <td>2.625</td>\n",
       "      <td>211.350143</td>\n",
       "      <td>8.106</td>\n",
       "    </tr>\n",
       "  </tbody>\n",
       "</table>\n",
       "</div>"
      ],
      "text/plain": [
       "   Store        Date  Weekly_Sales  Holiday_Flag  Temperature  Fuel_Price  \\\n",
       "0      1  05-02-2010    1643690.90             0        42.31       2.572   \n",
       "1      1  12-02-2010    1641957.44             1        38.51       2.548   \n",
       "2      1  19-02-2010    1611968.17             0        39.93       2.514   \n",
       "3      1  26-02-2010    1409727.59             0        46.63       2.561   \n",
       "4      1  05-03-2010    1554806.68             0        46.50       2.625   \n",
       "\n",
       "          CPI  Unemployment  \n",
       "0  211.096358         8.106  \n",
       "1  211.242170         8.106  \n",
       "2  211.289143         8.106  \n",
       "3  211.319643         8.106  \n",
       "4  211.350143         8.106  "
      ]
     },
     "execution_count": 3,
     "metadata": {},
     "output_type": "execute_result"
    }
   ],
   "source": [
    "# first 5 rows\n",
    "df.head()"
   ]
  },
  {
   "cell_type": "code",
   "execution_count": 4,
   "id": "5d36eee3",
   "metadata": {},
   "outputs": [
    {
     "data": {
      "text/plain": [
       "Store           0\n",
       "Date            0\n",
       "Weekly_Sales    0\n",
       "Holiday_Flag    0\n",
       "Temperature     0\n",
       "Fuel_Price      0\n",
       "CPI             0\n",
       "Unemployment    0\n",
       "dtype: int64"
      ]
     },
     "execution_count": 4,
     "metadata": {},
     "output_type": "execute_result"
    }
   ],
   "source": [
    "df.isnull().sum()"
   ]
  },
  {
   "cell_type": "code",
   "execution_count": 5,
   "id": "74eada2a",
   "metadata": {},
   "outputs": [
    {
     "data": {
      "text/plain": [
       "Store             int64\n",
       "Date             object\n",
       "Weekly_Sales    float64\n",
       "Holiday_Flag      int64\n",
       "Temperature     float64\n",
       "Fuel_Price      float64\n",
       "CPI             float64\n",
       "Unemployment    float64\n",
       "dtype: object"
      ]
     },
     "execution_count": 5,
     "metadata": {},
     "output_type": "execute_result"
    }
   ],
   "source": [
    "# DATATYPES\n",
    "df.dtypes"
   ]
  },
  {
   "cell_type": "markdown",
   "id": "2281be3e",
   "metadata": {},
   "source": [
    "2. ESTABLISHING SQL CONNECTIONS\n"
   ]
  },
  {
   "cell_type": "code",
   "execution_count": 6,
   "id": "732d6f4d",
   "metadata": {},
   "outputs": [],
   "source": [
    "import mysql.connector as msql"
   ]
  },
  {
   "cell_type": "markdown",
   "id": "1701d0b0",
   "metadata": {},
   "source": [
    "- 3. DATABASE CREATED"
   ]
  },
  {
   "cell_type": "code",
   "execution_count": 7,
   "id": "f29cb82a",
   "metadata": {},
   "outputs": [
    {
     "name": "stdout",
     "output_type": "stream",
     "text": [
      "Error while connecting to MySQL 1007 (HY000): Can't create database 'ECOMMERCE'; database exists\n"
     ]
    }
   ],
   "source": [
    "try:\n",
    "    # Calling db by using mysql.connect with MySQL workbench credentials\n",
    "    conn = msql.connect(host='localhost', user='root',password='root&&5655')\n",
    "    \n",
    "    # Connection checking (like HTTP request status_code 200)\n",
    "    if conn.is_connected(): \n",
    "        cursor = conn.cursor()\n",
    "        \n",
    "    # The cursor allows you to execute SQL statements and interact with the database.\n",
    "        cursor.execute(\"CREATE DATABASE ECOMMERCE\") # Inside SQL Command\n",
    "        print(\"Database is created!\")\n",
    "        \n",
    "except msql.Error as e:\n",
    "    print(\"Error while connecting to MySQL\", e)"
   ]
  },
  {
   "cell_type": "markdown",
   "id": "8a692204",
   "metadata": {},
   "source": [
    "- 4. TABLE CREATION\n"
   ]
  },
  {
   "cell_type": "code",
   "execution_count": 8,
   "id": "2e057246",
   "metadata": {},
   "outputs": [
    {
     "name": "stdout",
     "output_type": "stream",
     "text": [
      "You're connected to database:  ('ecommerce',)\n",
      "Creating table....\n",
      "Table Name:salesdata\n",
      "Table Created !\n"
     ]
    }
   ],
   "source": [
    "try:\n",
    "    # db credentials & connection\n",
    "    conn = msql.connect(host='localhost', database='ECOMMERCE', user='root', password='root&&5655')\n",
    "    if conn.is_connected():\n",
    "        cursor = conn.cursor()\n",
    "        cursor.execute(\"select database();\")\n",
    "        \n",
    "        # Retrieving Records from csv file\n",
    "        record = cursor.fetchone()\n",
    "        print(\"You're connected to database: \", record)\n",
    "        \n",
    "        # Table Creation\n",
    "        cursor.execute('DROP TABLE IF EXISTS salesdata;')\n",
    "        print('Creating table....')\n",
    "        cursor.execute(\"CREATE TABLE salesdata(Store int,Date varchar(10),Weekly_Sales float,Holiday_Flag int,Temperature float,Fuel_Price float,CPI float,Unemployment float)\") # SQL Command\n",
    "        print('Table Name:'+'salesdata')\n",
    "        print('Table Created !')\n",
    "        \n",
    "except msql.Error as e:\n",
    "            print(\"Error while connecting to MySQL\", e)"
   ]
  },
  {
   "cell_type": "markdown",
   "id": "5692d2ef",
   "metadata": {},
   "source": [
    "- 5. INSERTING RECORDS"
   ]
  },
  {
   "cell_type": "code",
   "execution_count": 9,
   "id": "128bb4d0",
   "metadata": {},
   "outputs": [],
   "source": [
    "import tqdm"
   ]
  },
  {
   "cell_type": "code",
   "execution_count": 10,
   "id": "607bf6b6",
   "metadata": {},
   "outputs": [
    {
     "name": "stdout",
     "output_type": "stream",
     "text": [
      "0 Record inserted\n",
      "100 Record inserted\n",
      "200 Record inserted\n",
      "300 Record inserted\n",
      "400 Record inserted\n",
      "500 Record inserted\n",
      "600 Record inserted\n",
      "700 Record inserted\n",
      "800 Record inserted\n",
      "900 Record inserted\n",
      "1000 Record inserted\n",
      "1100 Record inserted\n",
      "1200 Record inserted\n",
      "1300 Record inserted\n",
      "1400 Record inserted\n",
      "1500 Record inserted\n",
      "1600 Record inserted\n",
      "1700 Record inserted\n",
      "1800 Record inserted\n",
      "1900 Record inserted\n",
      "2000 Record inserted\n",
      "2100 Record inserted\n",
      "2200 Record inserted\n",
      "2300 Record inserted\n",
      "2400 Record inserted\n",
      "2500 Record inserted\n",
      "2600 Record inserted\n",
      "2700 Record inserted\n",
      "2800 Record inserted\n",
      "2900 Record inserted\n",
      "3000 Record inserted\n",
      "3100 Record inserted\n",
      "3200 Record inserted\n",
      "3300 Record inserted\n",
      "3400 Record inserted\n",
      "3500 Record inserted\n",
      "3600 Record inserted\n",
      "3700 Record inserted\n",
      "3800 Record inserted\n",
      "3900 Record inserted\n",
      "4000 Record inserted\n",
      "4100 Record inserted\n",
      "4200 Record inserted\n",
      "4300 Record inserted\n",
      "4400 Record inserted\n",
      "4500 Record inserted\n",
      "4600 Record inserted\n",
      "4700 Record inserted\n",
      "4800 Record inserted\n",
      "4900 Record inserted\n",
      "5000 Record inserted\n",
      "5100 Record inserted\n",
      "5200 Record inserted\n",
      "5300 Record inserted\n",
      "5400 Record inserted\n",
      "5500 Record inserted\n",
      "5600 Record inserted\n",
      "5700 Record inserted\n",
      "5800 Record inserted\n",
      "5900 Record inserted\n",
      "6000 Record inserted\n",
      "6100 Record inserted\n",
      "6200 Record inserted\n",
      "6300 Record inserted\n",
      "6400 Record inserted\n"
     ]
    }
   ],
   "source": [
    "try:\n",
    "    # Traversing through each record i = index, row = data (tuple) \n",
    "    for i, row in df.iterrows():\n",
    "        # string as placeholders for all diff data types  \n",
    "        sql = \"INSERT INTO salesdata (Store, Date, Weekly_Sales, Holiday_Flag, Temperature, Fuel_Price, CPI, Unemployment) VALUES (%s, %s, %s, %s, %s, %s, %s, %s)\"\n",
    "\n",
    "        # Check if the number of placeholders and the number of elements in the row match\n",
    "        if len(row) != sql.count(\"%s\"):\n",
    "            raise ValueError(f\"Number of placeholders in SQL query ({sql.count('%s')}) does not match the number of elements in the row ({len(row)})\")\n",
    "\n",
    "        # Inserting each record as a tuple\n",
    "        cursor.execute(sql, tuple(row))\n",
    "\n",
    "        # Records count (optional)\n",
    "        if i % 100 == 0:\n",
    "            print(f\"{i} Record inserted\")\n",
    "\n",
    "    # Commit all changes after the loop\n",
    "    conn.commit()\n",
    "\n",
    "except msql.Error as e:\n",
    "    print(\"Error while connecting to MySQL\", e)\n",
    "\n",
    "finally:\n",
    "    # Close the cursor and connection\n",
    "    cursor.close()\n",
    "    conn.close()"
   ]
  },
  {
   "cell_type": "markdown",
   "id": "a4aca3a4",
   "metadata": {},
   "source": [
    "- 6 . DROPING TABLE"
   ]
  },
  {
   "cell_type": "code",
   "execution_count": 11,
   "id": "20b7d2a5",
   "metadata": {},
   "outputs": [
    {
     "name": "stdout",
     "output_type": "stream",
     "text": [
      "Error while connecting to MySQL 1045 (28000): Access denied for user 'root'@'localhost' (using password: YES)\n"
     ]
    }
   ],
   "source": [
    "try:\n",
    "    # Database Credentials \n",
    "    conn = msql.connect(host='localhost', database='ECOMMERCE', user='root', password='Lokesh&&5655')\n",
    "    if conn.is_connected():\n",
    "        cursor = conn.cursor()\n",
    "        cursor.execute(\"DROP TABLE IF EXISTS salesdata;\")  # SQL Command to drop the table\n",
    "        print(\"Table Dropped\")\n",
    "except msql.Error as e:\n",
    "    print(\"Error while connecting to MySQL\", e)\n"
   ]
  },
  {
   "cell_type": "markdown",
   "id": "91400855",
   "metadata": {},
   "source": [
    "- 7.DROPING DATABASE"
   ]
  },
  {
   "cell_type": "code",
   "execution_count": 12,
   "id": "6c035a3e",
   "metadata": {},
   "outputs": [
    {
     "name": "stdout",
     "output_type": "stream",
     "text": [
      "Error while connecting to MySQL 1045 (28000): Access denied for user 'root'@'localhost' (using password: YES)\n"
     ]
    }
   ],
   "source": [
    "try:\n",
    "    # Database Credentials \n",
    "    conn = msql.connect(host='localhost', user='root',password='Lokesh&&5655')\n",
    "    if conn.is_connected():\n",
    "        cursor = conn.cursor()\n",
    "        cursor.execute(\"DROP DATABASE apeamcet2022\")\n",
    "        print(\"Database Dropped\")\n",
    "except msql.Error as e:\n",
    "    print(\"Error while connecting to MySQL\", e)"
   ]
  }
 ],
 "metadata": {
  "kernelspec": {
   "display_name": "Python 3",
   "language": "python",
   "name": "python3"
  },
  "language_info": {
   "codemirror_mode": {
    "name": "ipython",
    "version": 3
   },
   "file_extension": ".py",
   "mimetype": "text/x-python",
   "name": "python",
   "nbconvert_exporter": "python",
   "pygments_lexer": "ipython3",
   "version": "3.10.0"
  }
 },
 "nbformat": 4,
 "nbformat_minor": 5
}
